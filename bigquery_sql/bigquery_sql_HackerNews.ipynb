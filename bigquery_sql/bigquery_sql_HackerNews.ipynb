{
 "cells": [
  {
   "cell_type": "markdown",
   "metadata": {},
   "source": [
    "# BigQuery Public Data - Hacker News Dataset\n",
    "- Hacker news is a social news website focusing on computer science and entrepreneurship. The dataset contains all stories and comments from Hacker News from its launch in 2006. Each story contains a story id, the author that made the post, when it was written, and the number of points the story received."
   ]
  },
  {
   "cell_type": "markdown",
   "metadata": {},
   "source": [
    "### Authenticating with Google BigQuery service account key file"
   ]
  },
  {
   "cell_type": "markdown",
   "metadata": {},
   "source": [
    "Before connecting to the Jupyter server, do the following in terminal window:\n",
    "\n",
    "1. export GOOGLE_APPLICATION_CREDENTIALS=\"/your/file/path/[FILE_NAME].json\"\n",
    "2. pip install --upgrade google-cloud-bigquery"
   ]
  },
  {
   "cell_type": "markdown",
   "metadata": {},
   "source": [
    "### Set up BigQuery client & load Google Cloud BigQuery extension"
   ]
  },
  {
   "cell_type": "code",
   "execution_count": 6,
   "metadata": {},
   "outputs": [
    {
     "name": "stdout",
     "output_type": "stream",
     "text": [
      "The google.cloud.bigquery extension is already loaded. To reload it, use:\n",
      "  %reload_ext google.cloud.bigquery\n"
     ]
    }
   ],
   "source": [
    "from google.cloud import bigquery\n",
    "client = bigquery.Client()\n",
    "%load_ext google.cloud.bigquery"
   ]
  },
  {
   "cell_type": "markdown",
   "metadata": {},
   "source": [
    "### Preliminary Stuff"
   ]
  },
  {
   "cell_type": "markdown",
   "metadata": {},
   "source": [
    "#### What tables do the hacker_news dataset have?"
   ]
  },
  {
   "cell_type": "code",
   "execution_count": 4,
   "metadata": {},
   "outputs": [
    {
     "name": "stdout",
     "output_type": "stream",
     "text": [
      "comments\n",
      "full\n",
      "full_201510\n",
      "stories\n"
     ]
    }
   ],
   "source": [
    "data_ref = client.dataset(\"hacker_news\", project=\"bigquery-public-data\")\n",
    "data = client.get_dataset(data_ref)\n",
    "\n",
    "tables = list(client.list_tables(data))\n",
    "for table in tables:\n",
    "    print(table.table_id)"
   ]
  },
  {
   "cell_type": "markdown",
   "metadata": {},
   "source": [
    "#### Sneak peak of the comments table"
   ]
  },
  {
   "cell_type": "code",
   "execution_count": 6,
   "metadata": {},
   "outputs": [
    {
     "data": {
      "text/html": [
       "<div>\n",
       "<style scoped>\n",
       "    .dataframe tbody tr th:only-of-type {\n",
       "        vertical-align: middle;\n",
       "    }\n",
       "\n",
       "    .dataframe tbody tr th {\n",
       "        vertical-align: top;\n",
       "    }\n",
       "\n",
       "    .dataframe thead th {\n",
       "        text-align: right;\n",
       "    }\n",
       "</style>\n",
       "<table border=\"1\" class=\"dataframe\">\n",
       "  <thead>\n",
       "    <tr style=\"text-align: right;\">\n",
       "      <th></th>\n",
       "      <th>id</th>\n",
       "      <th>by</th>\n",
       "      <th>author</th>\n",
       "      <th>time</th>\n",
       "      <th>time_ts</th>\n",
       "      <th>text</th>\n",
       "      <th>parent</th>\n",
       "      <th>deleted</th>\n",
       "      <th>dead</th>\n",
       "      <th>ranking</th>\n",
       "    </tr>\n",
       "  </thead>\n",
       "  <tbody>\n",
       "    <tr>\n",
       "      <th>0</th>\n",
       "      <td>2701393</td>\n",
       "      <td>5l</td>\n",
       "      <td>5l</td>\n",
       "      <td>1309184881</td>\n",
       "      <td>2011-06-27 14:28:01+00:00</td>\n",
       "      <td>And the glazier who fixed all the broken windo...</td>\n",
       "      <td>2701243</td>\n",
       "      <td>None</td>\n",
       "      <td>None</td>\n",
       "      <td>0</td>\n",
       "    </tr>\n",
       "    <tr>\n",
       "      <th>1</th>\n",
       "      <td>5811403</td>\n",
       "      <td>99</td>\n",
       "      <td>99</td>\n",
       "      <td>1370234048</td>\n",
       "      <td>2013-06-03 04:34:08+00:00</td>\n",
       "      <td>Does canada have the equivalent of H1B/Green c...</td>\n",
       "      <td>5804452</td>\n",
       "      <td>None</td>\n",
       "      <td>None</td>\n",
       "      <td>0</td>\n",
       "    </tr>\n",
       "    <tr>\n",
       "      <th>2</th>\n",
       "      <td>21623</td>\n",
       "      <td>AF</td>\n",
       "      <td>AF</td>\n",
       "      <td>1178992400</td>\n",
       "      <td>2007-05-12 17:53:20+00:00</td>\n",
       "      <td>Speaking of Rails, there are other options in ...</td>\n",
       "      <td>21611</td>\n",
       "      <td>None</td>\n",
       "      <td>None</td>\n",
       "      <td>0</td>\n",
       "    </tr>\n",
       "    <tr>\n",
       "      <th>3</th>\n",
       "      <td>10159727</td>\n",
       "      <td>EA</td>\n",
       "      <td>EA</td>\n",
       "      <td>1441206574</td>\n",
       "      <td>2015-09-02 15:09:34+00:00</td>\n",
       "      <td>Humans and large livestock (and maybe even pet...</td>\n",
       "      <td>10159396</td>\n",
       "      <td>None</td>\n",
       "      <td>None</td>\n",
       "      <td>0</td>\n",
       "    </tr>\n",
       "    <tr>\n",
       "      <th>4</th>\n",
       "      <td>2988424</td>\n",
       "      <td>Iv</td>\n",
       "      <td>Iv</td>\n",
       "      <td>1315853580</td>\n",
       "      <td>2011-09-12 18:53:00+00:00</td>\n",
       "      <td>I must say I reacted in the same way when I re...</td>\n",
       "      <td>2988179</td>\n",
       "      <td>None</td>\n",
       "      <td>None</td>\n",
       "      <td>0</td>\n",
       "    </tr>\n",
       "  </tbody>\n",
       "</table>\n",
       "</div>"
      ],
      "text/plain": [
       "         id  by author        time                   time_ts  \\\n",
       "0   2701393  5l     5l  1309184881 2011-06-27 14:28:01+00:00   \n",
       "1   5811403  99     99  1370234048 2013-06-03 04:34:08+00:00   \n",
       "2     21623  AF     AF  1178992400 2007-05-12 17:53:20+00:00   \n",
       "3  10159727  EA     EA  1441206574 2015-09-02 15:09:34+00:00   \n",
       "4   2988424  Iv     Iv  1315853580 2011-09-12 18:53:00+00:00   \n",
       "\n",
       "                                                text    parent deleted  dead  \\\n",
       "0  And the glazier who fixed all the broken windo...   2701243    None  None   \n",
       "1  Does canada have the equivalent of H1B/Green c...   5804452    None  None   \n",
       "2  Speaking of Rails, there are other options in ...     21611    None  None   \n",
       "3  Humans and large livestock (and maybe even pet...  10159396    None  None   \n",
       "4  I must say I reacted in the same way when I re...   2988179    None  None   \n",
       "\n",
       "   ranking  \n",
       "0        0  \n",
       "1        0  \n",
       "2        0  \n",
       "3        0  \n",
       "4        0  "
      ]
     },
     "execution_count": 6,
     "metadata": {},
     "output_type": "execute_result"
    }
   ],
   "source": [
    "table_ref = data_ref.table(\"comments\")\n",
    "table = client.get_table(table_ref)\n",
    "client.list_rows(table, max_results=5).to_dataframe()"
   ]
  },
  {
   "cell_type": "markdown",
   "metadata": {},
   "source": [
    "#### Sneak peak of the stories table"
   ]
  },
  {
   "cell_type": "code",
   "execution_count": 8,
   "metadata": {},
   "outputs": [
    {
     "data": {
      "text/html": [
       "<div>\n",
       "<style scoped>\n",
       "    .dataframe tbody tr th:only-of-type {\n",
       "        vertical-align: middle;\n",
       "    }\n",
       "\n",
       "    .dataframe tbody tr th {\n",
       "        vertical-align: top;\n",
       "    }\n",
       "\n",
       "    .dataframe thead th {\n",
       "        text-align: right;\n",
       "    }\n",
       "</style>\n",
       "<table border=\"1\" class=\"dataframe\">\n",
       "  <thead>\n",
       "    <tr style=\"text-align: right;\">\n",
       "      <th></th>\n",
       "      <th>id</th>\n",
       "      <th>by</th>\n",
       "      <th>score</th>\n",
       "      <th>time</th>\n",
       "      <th>time_ts</th>\n",
       "      <th>title</th>\n",
       "      <th>url</th>\n",
       "      <th>text</th>\n",
       "      <th>deleted</th>\n",
       "      <th>dead</th>\n",
       "      <th>descendants</th>\n",
       "      <th>author</th>\n",
       "    </tr>\n",
       "  </thead>\n",
       "  <tbody>\n",
       "    <tr>\n",
       "      <th>0</th>\n",
       "      <td>6940813</td>\n",
       "      <td>sarath237</td>\n",
       "      <td>0</td>\n",
       "      <td>1387536270</td>\n",
       "      <td>2013-12-20 10:44:30+00:00</td>\n",
       "      <td>Sheryl Brindo Hot Pics</td>\n",
       "      <td>http://www.youtube.com/watch?v=ym1cyxneB0Y</td>\n",
       "      <td>Sheryl Brindo Hot Pics</td>\n",
       "      <td>None</td>\n",
       "      <td>True</td>\n",
       "      <td>NaN</td>\n",
       "      <td>sarath237</td>\n",
       "    </tr>\n",
       "    <tr>\n",
       "      <th>1</th>\n",
       "      <td>6991401</td>\n",
       "      <td>123123321321</td>\n",
       "      <td>0</td>\n",
       "      <td>1388508751</td>\n",
       "      <td>2013-12-31 16:52:31+00:00</td>\n",
       "      <td>Are you people also put off by the culture of ...</td>\n",
       "      <td></td>\n",
       "      <td>They&amp;#x27;re pretty explicitly &amp;#x27;startup f...</td>\n",
       "      <td>None</td>\n",
       "      <td>True</td>\n",
       "      <td>NaN</td>\n",
       "      <td>123123321321</td>\n",
       "    </tr>\n",
       "    <tr>\n",
       "      <th>2</th>\n",
       "      <td>1531556</td>\n",
       "      <td>ssn</td>\n",
       "      <td>0</td>\n",
       "      <td>1279617234</td>\n",
       "      <td>2010-07-20 09:13:54+00:00</td>\n",
       "      <td>New UI for Google Image Search</td>\n",
       "      <td>http://googlesystem.blogspot.com/2010/07/googl...</td>\n",
       "      <td>Again following on Bing's lead.</td>\n",
       "      <td>None</td>\n",
       "      <td>None</td>\n",
       "      <td>0.0</td>\n",
       "      <td>ssn</td>\n",
       "    </tr>\n",
       "    <tr>\n",
       "      <th>3</th>\n",
       "      <td>5012398</td>\n",
       "      <td>hoju</td>\n",
       "      <td>0</td>\n",
       "      <td>1357387877</td>\n",
       "      <td>2013-01-05 12:11:17+00:00</td>\n",
       "      <td>Historic website screenshots</td>\n",
       "      <td>http://webscraping.com/blog/Generate-website-s...</td>\n",
       "      <td>Python script to generate historic screenshots...</td>\n",
       "      <td>None</td>\n",
       "      <td>None</td>\n",
       "      <td>0.0</td>\n",
       "      <td>hoju</td>\n",
       "    </tr>\n",
       "    <tr>\n",
       "      <th>4</th>\n",
       "      <td>7214182</td>\n",
       "      <td>kogir</td>\n",
       "      <td>0</td>\n",
       "      <td>1401561740</td>\n",
       "      <td>2014-05-31 18:42:20+00:00</td>\n",
       "      <td>Placeholder</td>\n",
       "      <td></td>\n",
       "      <td>Mind the gap.</td>\n",
       "      <td>None</td>\n",
       "      <td>None</td>\n",
       "      <td>0.0</td>\n",
       "      <td>kogir</td>\n",
       "    </tr>\n",
       "  </tbody>\n",
       "</table>\n",
       "</div>"
      ],
      "text/plain": [
       "        id            by  score        time                   time_ts  \\\n",
       "0  6940813     sarath237      0  1387536270 2013-12-20 10:44:30+00:00   \n",
       "1  6991401  123123321321      0  1388508751 2013-12-31 16:52:31+00:00   \n",
       "2  1531556           ssn      0  1279617234 2010-07-20 09:13:54+00:00   \n",
       "3  5012398          hoju      0  1357387877 2013-01-05 12:11:17+00:00   \n",
       "4  7214182         kogir      0  1401561740 2014-05-31 18:42:20+00:00   \n",
       "\n",
       "                                               title  \\\n",
       "0                            Sheryl Brindo Hot Pics    \n",
       "1  Are you people also put off by the culture of ...   \n",
       "2                     New UI for Google Image Search   \n",
       "3                       Historic website screenshots   \n",
       "4                                        Placeholder   \n",
       "\n",
       "                                                 url  \\\n",
       "0         http://www.youtube.com/watch?v=ym1cyxneB0Y   \n",
       "1                                                      \n",
       "2  http://googlesystem.blogspot.com/2010/07/googl...   \n",
       "3  http://webscraping.com/blog/Generate-website-s...   \n",
       "4                                                      \n",
       "\n",
       "                                                text deleted  dead  \\\n",
       "0                             Sheryl Brindo Hot Pics    None  True   \n",
       "1  They&#x27;re pretty explicitly &#x27;startup f...    None  True   \n",
       "2                    Again following on Bing's lead.    None  None   \n",
       "3  Python script to generate historic screenshots...    None  None   \n",
       "4                                      Mind the gap.    None  None   \n",
       "\n",
       "   descendants        author  \n",
       "0          NaN     sarath237  \n",
       "1          NaN  123123321321  \n",
       "2          0.0           ssn  \n",
       "3          0.0          hoju  \n",
       "4          0.0         kogir  "
      ]
     },
     "execution_count": 8,
     "metadata": {},
     "output_type": "execute_result"
    }
   ],
   "source": [
    "table_ref = data_ref.table(\"stories\")\n",
    "table = client.get_table(table_ref)\n",
    "client.list_rows(table, max_results=5).to_dataframe()"
   ]
  },
  {
   "cell_type": "markdown",
   "metadata": {},
   "source": [
    "### BigQuery SQL"
   ]
  },
  {
   "cell_type": "markdown",
   "metadata": {},
   "source": [
    "#### Review table schema"
   ]
  },
  {
   "cell_type": "code",
   "execution_count": 16,
   "metadata": {},
   "outputs": [
    {
     "data": {
      "text/plain": [
       "[SchemaField('id', 'INTEGER', 'NULLABLE', 'Unique comment ID', ()),\n",
       " SchemaField('by', 'STRING', 'NULLABLE', 'Username of commenter', ()),\n",
       " SchemaField('author', 'STRING', 'NULLABLE', 'Username of author', ()),\n",
       " SchemaField('time', 'INTEGER', 'NULLABLE', 'Unix time', ()),\n",
       " SchemaField('time_ts', 'TIMESTAMP', 'NULLABLE', 'Human readable time in UTC (format: YYYY-MM-DD hh:mm:ss)', ()),\n",
       " SchemaField('text', 'STRING', 'NULLABLE', 'Comment text', ()),\n",
       " SchemaField('parent', 'INTEGER', 'NULLABLE', 'Parent comment ID', ()),\n",
       " SchemaField('deleted', 'BOOLEAN', 'NULLABLE', 'Is deleted?', ()),\n",
       " SchemaField('dead', 'BOOLEAN', 'NULLABLE', 'Is dead?', ()),\n",
       " SchemaField('ranking', 'INTEGER', 'NULLABLE', 'Comment ranking', ())]"
      ]
     },
     "execution_count": 16,
     "metadata": {},
     "output_type": "execute_result"
    }
   ],
   "source": [
    "# comments table schema\n",
    "client.get_table(data_ref.table(\"comments\")).schema"
   ]
  },
  {
   "cell_type": "code",
   "execution_count": 17,
   "metadata": {},
   "outputs": [
    {
     "data": {
      "text/plain": [
       "[SchemaField('id', 'INTEGER', 'NULLABLE', 'Unique story ID', ()),\n",
       " SchemaField('by', 'STRING', 'NULLABLE', 'Username of submitter', ()),\n",
       " SchemaField('score', 'INTEGER', 'NULLABLE', 'Story score', ()),\n",
       " SchemaField('time', 'INTEGER', 'NULLABLE', 'Unix time', ()),\n",
       " SchemaField('time_ts', 'TIMESTAMP', 'NULLABLE', 'Human readable time in UTC (format: YYYY-MM-DD hh:mm:ss)', ()),\n",
       " SchemaField('title', 'STRING', 'NULLABLE', 'Story title', ()),\n",
       " SchemaField('url', 'STRING', 'NULLABLE', 'Story url', ()),\n",
       " SchemaField('text', 'STRING', 'NULLABLE', 'Story text', ()),\n",
       " SchemaField('deleted', 'BOOLEAN', 'NULLABLE', 'Is deleted?', ()),\n",
       " SchemaField('dead', 'BOOLEAN', 'NULLABLE', 'Is dead?', ()),\n",
       " SchemaField('descendants', 'INTEGER', 'NULLABLE', 'Number of story descendants', ()),\n",
       " SchemaField('author', 'STRING', 'NULLABLE', 'Username of author', ())]"
      ]
     },
     "execution_count": 17,
     "metadata": {},
     "output_type": "execute_result"
    }
   ],
   "source": [
    "# stories table schema\n",
    "client.get_table(data_ref.table(\"stories\")).schema"
   ]
  },
  {
   "cell_type": "markdown",
   "metadata": {},
   "source": [
    "#### Pull information from the stories and comments tables to create a table showing all stories posted on 1/1/2012, with the corresponding number of comments. "
   ]
  },
  {
   "cell_type": "code",
   "execution_count": 19,
   "metadata": {},
   "outputs": [
    {
     "data": {
      "text/html": [
       "<div>\n",
       "<style scoped>\n",
       "    .dataframe tbody tr th:only-of-type {\n",
       "        vertical-align: middle;\n",
       "    }\n",
       "\n",
       "    .dataframe tbody tr th {\n",
       "        vertical-align: top;\n",
       "    }\n",
       "\n",
       "    .dataframe thead th {\n",
       "        text-align: right;\n",
       "    }\n",
       "</style>\n",
       "<table border=\"1\" class=\"dataframe\">\n",
       "  <thead>\n",
       "    <tr style=\"text-align: right;\">\n",
       "      <th></th>\n",
       "      <th>StoryID</th>\n",
       "      <th>Title</th>\n",
       "      <th>num_comments</th>\n",
       "    </tr>\n",
       "  </thead>\n",
       "  <tbody>\n",
       "    <tr>\n",
       "      <th>0</th>\n",
       "      <td>3412900</td>\n",
       "      <td>Ask HN: Who is Hiring? (January 2012)</td>\n",
       "      <td>154.0</td>\n",
       "    </tr>\n",
       "    <tr>\n",
       "      <th>1</th>\n",
       "      <td>3412901</td>\n",
       "      <td>Ask HN: Freelancer? Seeking freelancer? (Janua...</td>\n",
       "      <td>97.0</td>\n",
       "    </tr>\n",
       "    <tr>\n",
       "      <th>2</th>\n",
       "      <td>3412643</td>\n",
       "      <td>Avoid Apress</td>\n",
       "      <td>30.0</td>\n",
       "    </tr>\n",
       "    <tr>\n",
       "      <th>3</th>\n",
       "      <td>3412891</td>\n",
       "      <td>There's no shame in code that is simply \"good ...</td>\n",
       "      <td>27.0</td>\n",
       "    </tr>\n",
       "    <tr>\n",
       "      <th>4</th>\n",
       "      <td>3414012</td>\n",
       "      <td>Impress.js - a Prezi like implementation using...</td>\n",
       "      <td>27.0</td>\n",
       "    </tr>\n",
       "  </tbody>\n",
       "</table>\n",
       "</div>"
      ],
      "text/plain": [
       "   StoryID                                              Title  num_comments\n",
       "0  3412900              Ask HN: Who is Hiring? (January 2012)         154.0\n",
       "1  3412901  Ask HN: Freelancer? Seeking freelancer? (Janua...          97.0\n",
       "2  3412643                                       Avoid Apress          30.0\n",
       "3  3412891  There's no shame in code that is simply \"good ...          27.0\n",
       "4  3414012  Impress.js - a Prezi like implementation using...          27.0"
      ]
     },
     "execution_count": 19,
     "metadata": {},
     "output_type": "execute_result"
    }
   ],
   "source": [
    "query = \"\"\"\n",
    "        WITH comments_count AS\n",
    "        (\n",
    "        SELECT parent, COUNT(*) AS num_comments\n",
    "        FROM `bigquery-public-data.hacker_news.comments`\n",
    "        GROUP BY parent\n",
    "        )\n",
    "        SELECT s.id AS StoryID, s.title AS Title, c.num_comments \n",
    "        FROM `bigquery-public-data.hacker_news.stories` s\n",
    "        LEFT JOIN comments_count c\n",
    "            ON s.id = c.parent\n",
    "        WHERE EXTRACT(DATE FROM s.time_ts) = '2012-01-01'\n",
    "        ORDER BY c.num_comments DESC\n",
    "        \"\"\"\n",
    "\n",
    "result = client.query(query).result().to_dataframe()\n",
    "result.head()"
   ]
  },
  {
   "cell_type": "markdown",
   "metadata": {},
   "source": [
    "#### Obtain all usernames corresponding to users who wrote stories or comments on 1/24/2014"
   ]
  },
  {
   "cell_type": "code",
   "execution_count": 22,
   "metadata": {},
   "outputs": [
    {
     "data": {
      "text/html": [
       "<div>\n",
       "<style scoped>\n",
       "    .dataframe tbody tr th:only-of-type {\n",
       "        vertical-align: middle;\n",
       "    }\n",
       "\n",
       "    .dataframe tbody tr th {\n",
       "        vertical-align: top;\n",
       "    }\n",
       "\n",
       "    .dataframe thead th {\n",
       "        text-align: right;\n",
       "    }\n",
       "</style>\n",
       "<table border=\"1\" class=\"dataframe\">\n",
       "  <thead>\n",
       "    <tr style=\"text-align: right;\">\n",
       "      <th></th>\n",
       "      <th>by</th>\n",
       "    </tr>\n",
       "  </thead>\n",
       "  <tbody>\n",
       "    <tr>\n",
       "      <th>0</th>\n",
       "      <td>anko</td>\n",
       "    </tr>\n",
       "    <tr>\n",
       "      <th>1</th>\n",
       "      <td>lhnz</td>\n",
       "    </tr>\n",
       "    <tr>\n",
       "      <th>2</th>\n",
       "      <td>ljoshua</td>\n",
       "    </tr>\n",
       "    <tr>\n",
       "      <th>3</th>\n",
       "      <td>spikels</td>\n",
       "    </tr>\n",
       "    <tr>\n",
       "      <th>4</th>\n",
       "      <td>31reasons</td>\n",
       "    </tr>\n",
       "  </tbody>\n",
       "</table>\n",
       "</div>"
      ],
      "text/plain": [
       "          by\n",
       "0       anko\n",
       "1       lhnz\n",
       "2    ljoshua\n",
       "3    spikels\n",
       "4  31reasons"
      ]
     },
     "execution_count": 22,
     "metadata": {},
     "output_type": "execute_result"
    }
   ],
   "source": [
    "query = \"\"\"\n",
    "        SELECT c.by \n",
    "        FROM `bigquery-public-data.hacker_news.comments` c\n",
    "        WHERE EXTRACT(DATE FROM time_ts) = '2014-01-24'\n",
    "        UNION DISTINCT\n",
    "        SELECT s.by\n",
    "        FROM `bigquery-public-data.hacker_news.stories` s\n",
    "        WHERE EXTRACT(DATE FROM time_ts) = '2014-01-24'\n",
    "        \"\"\"\n",
    "\n",
    "result = client.query(query).result().to_dataframe()\n",
    "result.head()"
   ]
  },
  {
   "cell_type": "markdown",
   "metadata": {},
   "source": [
    "## End of Session"
   ]
  }
 ],
 "metadata": {
  "kernelspec": {
   "display_name": "Python 3",
   "language": "python",
   "name": "python3"
  },
  "language_info": {
   "codemirror_mode": {
    "name": "ipython",
    "version": 3
   },
   "file_extension": ".py",
   "mimetype": "text/x-python",
   "name": "python",
   "nbconvert_exporter": "python",
   "pygments_lexer": "ipython3",
   "version": "3.6.6"
  }
 },
 "nbformat": 4,
 "nbformat_minor": 2
}
