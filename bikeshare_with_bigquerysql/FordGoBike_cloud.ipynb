{
 "cells": [
  {
   "cell_type": "markdown",
   "metadata": {},
   "source": [
    "# Ford GoBike Analysis\n",
    "Problem Statement: You're a data scientist at Ford GoBike (https://www.fordgobike.com/), the company running Bay Area Bikeshare. You are trying to increase ridership, and you want to offer deals through the mobile app to do so. What deals do you offer though? Currently, your company has three options: a flat price for a single one-way trip, a day pass that allows unlimited 30-minute rides for 24 hours and an annual membership."
   ]
  },
  {
   "cell_type": "markdown",
   "metadata": {},
   "source": [
    "## Import necessary packages"
   ]
  },
  {
   "cell_type": "code",
   "execution_count": 2,
   "metadata": {},
   "outputs": [],
   "source": [
    "import pandas as pd\n",
    "import matplotlib.pyplot as plt\n",
    "import matplotlib.ticker as mtick\n",
    "import seaborn as sns\n",
    "\n",
    "%matplotlib inline"
   ]
  },
  {
   "cell_type": "markdown",
   "metadata": {},
   "source": [
    "## How many trips? Who made those Trips? When were those trips made?"
   ]
  },
  {
   "cell_type": "markdown",
   "metadata": {},
   "source": [
    "#### Query total number of trips by subscriber type"
   ]
  },
  {
   "cell_type": "code",
   "execution_count": 3,
   "metadata": {},
   "outputs": [
    {
     "name": "stdout",
     "output_type": "stream",
     "text": [
      "Waiting on bqjob_r1831a5ec0cea88d9_0000016b35bb0f56_1 ... (0s) Current status: DONE   \n",
      "+------------------+----------------+-------------+\n",
      "| Subscriber_Trips | Customer_Trips | Total_Trips |\n",
      "+------------------+----------------+-------------+\n",
      "|           846839 |         136809 |      983648 |\n",
      "+------------------+----------------+-------------+\n"
     ]
    }
   ],
   "source": [
    "\n",
    "! bq query --use_legacy_sql=FALSE \"\\\n",
    "SELECT \\\n",
    "    COUNT(Subscriber_trip) Subscriber_Trips, \\\n",
    "    COUNT(Customer_trip) Customer_Trips, \\\n",
    "    COUNT(*) Total_Trips\\\n",
    "FROM \\\n",
    "    (SELECT \\\n",
    "        CASE WHEN subscriber_type = 'Subscriber' THEN 1 END Subscriber_trip, \\\n",
    "        CASE WHEN subscriber_type = 'Customer' THEN 1 END Customer_trip \\\n",
    "    FROM \\\n",
    "        \\`bigquery-public-data.san_francisco.bikeshare_trips\\`)\""
   ]
  },
  {
   "cell_type": "markdown",
   "metadata": {},
   "source": [
    "#### Query total number of trips by month and write the output table to a csv file"
   ]
  },
  {
   "cell_type": "code",
   "execution_count": 2,
   "metadata": {},
   "outputs": [
    {
     "name": "stdout",
     "output_type": "stream",
     "text": [
      "\r",
      "Waiting on bqjob_r5970c3449361d762_0000016b2e45897a_1 ... (0s) Current status: DONE   "
     ]
    }
   ],
   "source": [
    "! bq query --use_legacy_sql=FALSE --format=csv \\\n",
    "\"SELECT \\\n",
    "    FORMAT_DATE('%B', DATE(start_date)) Month,\\\n",
    "    COUNT(*) Total_Trips,\\\n",
    "    COUNT(subscriber_trip) Subscriber_Trips,\\\n",
    "    COUNT(customer_trip) Customer_Trips\\\n",
    "FROM (\\\n",
    "    SELECT\\\n",
    "        start_date,\\\n",
    "        CASE WHEN subscriber_type = 'Customer' THEN 1 END customer_trip,\\\n",
    "        CASE WHEN subscriber_type = 'Subscriber' THEN 1 END subscriber_trip\\\n",
    "    FROM\\\n",
    "        \\`bigquery-public-data.san_francisco.bikeshare_trips\\`)\\\n",
    "GROUP BY 1\\\n",
    "ORDER BY 2 DESC\" > monthly_trips.csv"
   ]
  },
  {
   "cell_type": "markdown",
   "metadata": {},
   "source": [
    "#### Read monthly_trips.csv to dataframe"
   ]
  },
  {
   "cell_type": "code",
   "execution_count": 33,
   "metadata": {},
   "outputs": [
    {
     "data": {
      "text/html": [
       "<div>\n",
       "<style scoped>\n",
       "    .dataframe tbody tr th:only-of-type {\n",
       "        vertical-align: middle;\n",
       "    }\n",
       "\n",
       "    .dataframe tbody tr th {\n",
       "        vertical-align: top;\n",
       "    }\n",
       "\n",
       "    .dataframe thead th {\n",
       "        text-align: right;\n",
       "    }\n",
       "</style>\n",
       "<table border=\"1\" class=\"dataframe\">\n",
       "  <thead>\n",
       "    <tr style=\"text-align: right;\">\n",
       "      <th></th>\n",
       "      <th>Total_Trips</th>\n",
       "      <th>Subscriber_Trips</th>\n",
       "      <th>Customer_Trips</th>\n",
       "    </tr>\n",
       "  </thead>\n",
       "  <tbody>\n",
       "    <tr>\n",
       "      <th>January</th>\n",
       "      <td>71788</td>\n",
       "      <td>64075</td>\n",
       "      <td>7713</td>\n",
       "    </tr>\n",
       "    <tr>\n",
       "      <th>February</th>\n",
       "      <td>69985</td>\n",
       "      <td>62123</td>\n",
       "      <td>7862</td>\n",
       "    </tr>\n",
       "    <tr>\n",
       "      <th>March</th>\n",
       "      <td>81777</td>\n",
       "      <td>71619</td>\n",
       "      <td>10158</td>\n",
       "    </tr>\n",
       "    <tr>\n",
       "      <th>April</th>\n",
       "      <td>84196</td>\n",
       "      <td>74218</td>\n",
       "      <td>9978</td>\n",
       "    </tr>\n",
       "    <tr>\n",
       "      <th>May</th>\n",
       "      <td>86364</td>\n",
       "      <td>73623</td>\n",
       "      <td>12741</td>\n",
       "    </tr>\n",
       "    <tr>\n",
       "      <th>June</th>\n",
       "      <td>91672</td>\n",
       "      <td>79525</td>\n",
       "      <td>12147</td>\n",
       "    </tr>\n",
       "    <tr>\n",
       "      <th>July</th>\n",
       "      <td>89539</td>\n",
       "      <td>76387</td>\n",
       "      <td>13152</td>\n",
       "    </tr>\n",
       "    <tr>\n",
       "      <th>August</th>\n",
       "      <td>95576</td>\n",
       "      <td>80033</td>\n",
       "      <td>15543</td>\n",
       "    </tr>\n",
       "    <tr>\n",
       "      <th>September</th>\n",
       "      <td>87321</td>\n",
       "      <td>70011</td>\n",
       "      <td>17310</td>\n",
       "    </tr>\n",
       "    <tr>\n",
       "      <th>October</th>\n",
       "      <td>94378</td>\n",
       "      <td>80340</td>\n",
       "      <td>14038</td>\n",
       "    </tr>\n",
       "    <tr>\n",
       "      <th>November</th>\n",
       "      <td>73091</td>\n",
       "      <td>63720</td>\n",
       "      <td>9371</td>\n",
       "    </tr>\n",
       "    <tr>\n",
       "      <th>December</th>\n",
       "      <td>57961</td>\n",
       "      <td>51165</td>\n",
       "      <td>6796</td>\n",
       "    </tr>\n",
       "  </tbody>\n",
       "</table>\n",
       "</div>"
      ],
      "text/plain": [
       "           Total_Trips  Subscriber_Trips  Customer_Trips\n",
       "January          71788             64075            7713\n",
       "February         69985             62123            7862\n",
       "March            81777             71619           10158\n",
       "April            84196             74218            9978\n",
       "May              86364             73623           12741\n",
       "June             91672             79525           12147\n",
       "July             89539             76387           13152\n",
       "August           95576             80033           15543\n",
       "September        87321             70011           17310\n",
       "October          94378             80340           14038\n",
       "November         73091             63720            9371\n",
       "December         57961             51165            6796"
      ]
     },
     "execution_count": 33,
     "metadata": {},
     "output_type": "execute_result"
    }
   ],
   "source": [
    "monthly_trips = pd.read_csv('monthly_trips.csv', index_col='Month')\n",
    "months = ['January', 'February', 'March', 'April', 'May', 'June', \n",
    "          'July', 'August', 'September', 'October', 'November', 'December']\n",
    "monthly_trips.index = pd.Categorical(monthly_trips.index, categories=months, ordered=True)\n",
    "monthly_trips.sort_index(inplace=True)\n",
    "monthly_trips"
   ]
  },
  {
   "cell_type": "markdown",
   "metadata": {},
   "source": [
    "#### Plot number of trips by month by subscriber type"
   ]
  },
  {
   "cell_type": "code",
   "execution_count": 43,
   "metadata": {},
   "outputs": [
    {
     "data": {
      "text/plain": [
       "Text(-0.3, 71000, 'Average Trips by Subscriber')"
      ]
     },
     "execution_count": 43,
     "metadata": {},
     "output_type": "execute_result"
    },
    {
     "data": {
      "image/png": "[encoded data removed]",
      "text/plain": [
       "<Figure size 1152x432 with 1 Axes>"
      ]
     },
     "metadata": {
      "needs_background": "light"
     },
     "output_type": "display_data"
    }
   ],
   "source": [
    "ax = monthly_trips[['Subscriber_Trips', 'Customer_Trips']].plot(kind='bar', \n",
    "                                                                rot=0, \n",
    "                                                                figsize=(16,6), \n",
    "                                                                color=['navy', 'orangered']) \n",
    "ax.set_title('Monthly Trips by User Type', fontsize=14)\n",
    "ax.set_ylabel('Number of Trips')\n",
    "ax.set_xlabel(' ')\n",
    "\n",
    "fmt = '{x:,.0f}'\n",
    "ax.yaxis.set_major_formatter(mtick.StrMethodFormatter(fmt))\n",
    "\n",
    "for tick in ax.yaxis.get_major_ticks():\n",
    "    tick.label.set_fontsize(12)\n",
    "for tick in ax.xaxis.get_major_ticks():\n",
    "    tick.label.set_fontsize(12)\n",
    "\n",
    "ax.axhline(monthly_trips['Subscriber_Trips'].mean(), color='red', linestyle='dashed',linewidth=1)\n",
    "ax.text(-0.3, 71000,'Average Trips by Subscriber', fontsize=10)"
   ]
  },
  {
   "cell_type": "markdown",
   "metadata": {},
   "source": [
    "#### Query total number of trips by hour of day and write the output table to a csv file"
   ]
  },
  {
   "cell_type": "code",
   "execution_count": 28,
   "metadata": {},
   "outputs": [
    {
     "name": "stdout",
     "output_type": "stream",
     "text": [
      "Waiting on bqjob_r3655373e81c15663_0000016b35cda3ce_1 ... (1s) Current status: DONE   "
     ]
    }
   ],
   "source": [
    "! bq query --use_legacy_sql=FALSE --format=csv \\\n",
    "\"SELECT \\\n",
    "    EXTRACT(HOUR FROM start_date) Hour,\\\n",
    "    COUNT(*) Total_Trips,\\\n",
    "    COUNT(subscriber_trip) Subscriber_Trips,\\\n",
    "    COUNT(customer_trip) Customer_Trips\\\n",
    "FROM (\\\n",
    "    SELECT\\\n",
    "        start_date,\\\n",
    "        CASE WHEN subscriber_type = 'Customer' THEN 1 END customer_trip,\\\n",
    "        CASE WHEN subscriber_type = 'Subscriber' THEN 1 END subscriber_trip\\\n",
    "    FROM\\\n",
    "        \\`bigquery-public-data.san_francisco.bikeshare_trips\\`)\\\n",
    "GROUP BY 1\\\n",
    "ORDER BY 1\" > hourly_trips.csv"
   ]
  },
  {
   "cell_type": "markdown",
   "metadata": {},
   "source": [
    "#### Read the hourly_trips.csv file to dataframe"
   ]
  },
  {
   "cell_type": "code",
   "execution_count": 30,
   "metadata": {},
   "outputs": [
    {
     "data": {
      "text/html": [
       "<div>\n",
       "<style scoped>\n",
       "    .dataframe tbody tr th:only-of-type {\n",
       "        vertical-align: middle;\n",
       "    }\n",
       "\n",
       "    .dataframe tbody tr th {\n",
       "        vertical-align: top;\n",
       "    }\n",
       "\n",
       "    .dataframe thead th {\n",
       "        text-align: right;\n",
       "    }\n",
       "</style>\n",
       "<table border=\"1\" class=\"dataframe\">\n",
       "  <thead>\n",
       "    <tr style=\"text-align: right;\">\n",
       "      <th></th>\n",
       "      <th>Hour</th>\n",
       "      <th>Total_Trips</th>\n",
       "      <th>Subscriber_Trips</th>\n",
       "      <th>Customer_Trips</th>\n",
       "    </tr>\n",
       "  </thead>\n",
       "  <tbody>\n",
       "    <tr>\n",
       "      <th>0</th>\n",
       "      <td>0</td>\n",
       "      <td>2929</td>\n",
       "      <td>2081</td>\n",
       "      <td>848</td>\n",
       "    </tr>\n",
       "    <tr>\n",
       "      <th>1</th>\n",
       "      <td>1</td>\n",
       "      <td>1611</td>\n",
       "      <td>972</td>\n",
       "      <td>639</td>\n",
       "    </tr>\n",
       "    <tr>\n",
       "      <th>2</th>\n",
       "      <td>2</td>\n",
       "      <td>877</td>\n",
       "      <td>464</td>\n",
       "      <td>413</td>\n",
       "    </tr>\n",
       "    <tr>\n",
       "      <th>3</th>\n",
       "      <td>3</td>\n",
       "      <td>605</td>\n",
       "      <td>397</td>\n",
       "      <td>208</td>\n",
       "    </tr>\n",
       "    <tr>\n",
       "      <th>4</th>\n",
       "      <td>4</td>\n",
       "      <td>1398</td>\n",
       "      <td>1238</td>\n",
       "      <td>160</td>\n",
       "    </tr>\n",
       "    <tr>\n",
       "      <th>5</th>\n",
       "      <td>5</td>\n",
       "      <td>5098</td>\n",
       "      <td>4795</td>\n",
       "      <td>303</td>\n",
       "    </tr>\n",
       "    <tr>\n",
       "      <th>6</th>\n",
       "      <td>6</td>\n",
       "      <td>20519</td>\n",
       "      <td>19574</td>\n",
       "      <td>945</td>\n",
       "    </tr>\n",
       "    <tr>\n",
       "      <th>7</th>\n",
       "      <td>7</td>\n",
       "      <td>67531</td>\n",
       "      <td>64946</td>\n",
       "      <td>2585</td>\n",
       "    </tr>\n",
       "    <tr>\n",
       "      <th>8</th>\n",
       "      <td>8</td>\n",
       "      <td>132464</td>\n",
       "      <td>127171</td>\n",
       "      <td>5293</td>\n",
       "    </tr>\n",
       "    <tr>\n",
       "      <th>9</th>\n",
       "      <td>9</td>\n",
       "      <td>96118</td>\n",
       "      <td>89546</td>\n",
       "      <td>6572</td>\n",
       "    </tr>\n",
       "    <tr>\n",
       "      <th>10</th>\n",
       "      <td>10</td>\n",
       "      <td>42782</td>\n",
       "      <td>34532</td>\n",
       "      <td>8250</td>\n",
       "    </tr>\n",
       "    <tr>\n",
       "      <th>11</th>\n",
       "      <td>11</td>\n",
       "      <td>40407</td>\n",
       "      <td>29329</td>\n",
       "      <td>11078</td>\n",
       "    </tr>\n",
       "    <tr>\n",
       "      <th>12</th>\n",
       "      <td>12</td>\n",
       "      <td>46950</td>\n",
       "      <td>34442</td>\n",
       "      <td>12508</td>\n",
       "    </tr>\n",
       "    <tr>\n",
       "      <th>13</th>\n",
       "      <td>13</td>\n",
       "      <td>43714</td>\n",
       "      <td>30995</td>\n",
       "      <td>12719</td>\n",
       "    </tr>\n",
       "    <tr>\n",
       "      <th>14</th>\n",
       "      <td>14</td>\n",
       "      <td>37852</td>\n",
       "      <td>25115</td>\n",
       "      <td>12737</td>\n",
       "    </tr>\n",
       "    <tr>\n",
       "      <th>15</th>\n",
       "      <td>15</td>\n",
       "      <td>47626</td>\n",
       "      <td>34820</td>\n",
       "      <td>12806</td>\n",
       "    </tr>\n",
       "    <tr>\n",
       "      <th>16</th>\n",
       "      <td>16</td>\n",
       "      <td>88755</td>\n",
       "      <td>76051</td>\n",
       "      <td>12704</td>\n",
       "    </tr>\n",
       "    <tr>\n",
       "      <th>17</th>\n",
       "      <td>17</td>\n",
       "      <td>126302</td>\n",
       "      <td>114915</td>\n",
       "      <td>11387</td>\n",
       "    </tr>\n",
       "    <tr>\n",
       "      <th>18</th>\n",
       "      <td>18</td>\n",
       "      <td>84569</td>\n",
       "      <td>75798</td>\n",
       "      <td>8771</td>\n",
       "    </tr>\n",
       "    <tr>\n",
       "      <th>19</th>\n",
       "      <td>19</td>\n",
       "      <td>41071</td>\n",
       "      <td>35515</td>\n",
       "      <td>5556</td>\n",
       "    </tr>\n",
       "    <tr>\n",
       "      <th>20</th>\n",
       "      <td>20</td>\n",
       "      <td>22747</td>\n",
       "      <td>19006</td>\n",
       "      <td>3741</td>\n",
       "    </tr>\n",
       "    <tr>\n",
       "      <th>21</th>\n",
       "      <td>21</td>\n",
       "      <td>15258</td>\n",
       "      <td>12450</td>\n",
       "      <td>2808</td>\n",
       "    </tr>\n",
       "    <tr>\n",
       "      <th>22</th>\n",
       "      <td>22</td>\n",
       "      <td>10270</td>\n",
       "      <td>7985</td>\n",
       "      <td>2285</td>\n",
       "    </tr>\n",
       "    <tr>\n",
       "      <th>23</th>\n",
       "      <td>23</td>\n",
       "      <td>6195</td>\n",
       "      <td>4702</td>\n",
       "      <td>1493</td>\n",
       "    </tr>\n",
       "  </tbody>\n",
       "</table>\n",
       "</div>"
      ],
      "text/plain": [
       "    Hour  Total_Trips  Subscriber_Trips  Customer_Trips\n",
       "0      0         2929              2081             848\n",
       "1      1         1611               972             639\n",
       "2      2          877               464             413\n",
       "3      3          605               397             208\n",
       "4      4         1398              1238             160\n",
       "5      5         5098              4795             303\n",
       "6      6        20519             19574             945\n",
       "7      7        67531             64946            2585\n",
       "8      8       132464            127171            5293\n",
       "9      9        96118             89546            6572\n",
       "10    10        42782             34532            8250\n",
       "11    11        40407             29329           11078\n",
       "12    12        46950             34442           12508\n",
       "13    13        43714             30995           12719\n",
       "14    14        37852             25115           12737\n",
       "15    15        47626             34820           12806\n",
       "16    16        88755             76051           12704\n",
       "17    17       126302            114915           11387\n",
       "18    18        84569             75798            8771\n",
       "19    19        41071             35515            5556\n",
       "20    20        22747             19006            3741\n",
       "21    21        15258             12450            2808\n",
       "22    22        10270              7985            2285\n",
       "23    23         6195              4702            1493"
      ]
     },
     "execution_count": 30,
     "metadata": {},
     "output_type": "execute_result"
    }
   ],
   "source": [
    "hourly_trips = pd.read_csv('hourly_trips.csv')\n",
    "hourly_trips"
   ]
  },
  {
   "cell_type": "markdown",
   "metadata": {},
   "source": [
    "#### Plot number of trips by hour"
   ]
  },
  {
   "cell_type": "code",
   "execution_count": 33,
   "metadata": {},
   "outputs": [
    {
     "data": {
      "image/png": "[encoded data removed]",
      "text/plain": [
       "<Figure size 1152x432 with 1 Axes>"
      ]
     },
     "metadata": {
      "needs_background": "light"
     },
     "output_type": "display_data"
    }
   ],
   "source": [
    "ax = hourly_trips[['Subscriber_Trips', 'Customer_Trips']].plot(kind='bar', \n",
    "                                                                rot=0, \n",
    "                                                                figsize=(16,6), \n",
    "                                                                color=['navy', 'orangered']) \n",
    "ax.set_title('Hourly Trips by User Type', fontsize=14)\n",
    "ax.set_ylabel('Number of Trips')\n",
    "ax.set_xlabel(' ')\n",
    "\n",
    "fmt = '{x:,.0f}'\n",
    "ax.yaxis.set_major_formatter(mtick.StrMethodFormatter(fmt))\n",
    "\n",
    "for tick in ax.yaxis.get_major_ticks():\n",
    "    tick.label.set_fontsize(12)\n",
    "for tick in ax.xaxis.get_major_ticks():\n",
    "    tick.label.set_fontsize(12)"
   ]
  },
  {
   "cell_type": "markdown",
   "metadata": {},
   "source": [
    "<font color=red>I was planning on doing a heatmap for number of trips by day of week and time of day, but big query only returns 100 rows in jupyter notebook, so wasn't able to do that. When I used the same query in big query, it returns the correct number of results. Does jupyter notebook have a limit of rows to return from google big query? </font>"
   ]
  },
  {
   "cell_type": "markdown",
   "metadata": {},
   "source": [
    "#### Therefore,\n",
    "- Most trips are taken by **subscribers**\n",
    "- Number of subscriber trips stayed relatively stable from month to month; number of customer trips peaked in **September**\n",
    "- The trips by hour plot shows the typical AM and PM **commuting peaks** for subscribers and the smooth trip curve for customers.\n",
    "\n"
   ]
  },
  {
   "cell_type": "markdown",
   "metadata": {},
   "source": [
    "## Trip Duration"
   ]
  },
  {
   "cell_type": "markdown",
   "metadata": {},
   "source": [
    "#### Less than 30 mins"
   ]
  },
  {
   "cell_type": "code",
   "execution_count": 69,
   "metadata": {},
   "outputs": [
    {
     "name": "stdout",
     "output_type": "stream",
     "text": [
      "\r",
      "Waiting on bqjob_re8badf176533a18_0000016b2f783fd0_1 ... (0s) Current status: DONE   "
     ]
    }
   ],
   "source": [
    "# Query number and percentage of trips that are less than 30 mins\n",
    "\n",
    "! bq query --use_legacy_sql=FALSE --format=csv \\\n",
    "\"SELECT \\\n",
    "    subscriber_type User_Type, \\\n",
    "    COUNT(*) Number_of_Trips, \\\n",
    "    COUNT(*)/(SELECT \\\n",
    "                  COUNT(*) \\\n",
    "              FROM \\\n",
    "                  \\`bigquery-public-data.san_francisco.bikeshare_trips\\` \\\n",
    "              WHERE \\\n",
    "                  subscriber_type = CASE WHEN t.subscriber_type='Customer' \\\n",
    "                                    THEN 'Customer' \\\n",
    "                                    ELSE 'Subscriber' \\\n",
    "                                    END) Percentage_Share\\\n",
    "FROM \\\n",
    "    \\`bigquery-public-data.san_francisco.bikeshare_trips\\` t \\\n",
    "WHERE \\\n",
    "    (duration_sec)/60 < 30 \\\n",
    "GROUP BY 1\" > Less_than_30_Trips.csv"
   ]
  },
  {
   "cell_type": "code",
   "execution_count": 3,
   "metadata": {},
   "outputs": [
    {
     "data": {
      "text/html": [
       "<div>\n",
       "<style scoped>\n",
       "    .dataframe tbody tr th:only-of-type {\n",
       "        vertical-align: middle;\n",
       "    }\n",
       "\n",
       "    .dataframe tbody tr th {\n",
       "        vertical-align: top;\n",
       "    }\n",
       "\n",
       "    .dataframe thead th {\n",
       "        text-align: right;\n",
       "    }\n",
       "</style>\n",
       "<table border=\"1\" class=\"dataframe\">\n",
       "  <thead>\n",
       "    <tr style=\"text-align: right;\">\n",
       "      <th></th>\n",
       "      <th>User_Type</th>\n",
       "      <th>Number_of_Trips</th>\n",
       "      <th>Percentage_Share</th>\n",
       "    </tr>\n",
       "  </thead>\n",
       "  <tbody>\n",
       "    <tr>\n",
       "      <th>0</th>\n",
       "      <td>Customer</td>\n",
       "      <td>94777</td>\n",
       "      <td>0.692769</td>\n",
       "    </tr>\n",
       "    <tr>\n",
       "      <th>1</th>\n",
       "      <td>Subscriber</td>\n",
       "      <td>841503</td>\n",
       "      <td>0.993699</td>\n",
       "    </tr>\n",
       "  </tbody>\n",
       "</table>\n",
       "</div>"
      ],
      "text/plain": [
       "    User_Type  Number_of_Trips  Percentage_Share\n",
       "0    Customer            94777          0.692769\n",
       "1  Subscriber           841503          0.993699"
      ]
     },
     "execution_count": 3,
     "metadata": {},
     "output_type": "execute_result"
    }
   ],
   "source": [
    "# Read csv into dataframe\n",
    "\n",
    "less_than_30 = pd.read_csv('Less_than_30_Trips.csv')\n",
    "less_than_30"
   ]
  },
  {
   "cell_type": "markdown",
   "metadata": {},
   "source": [
    "#### Less than 15 mins"
   ]
  },
  {
   "cell_type": "code",
   "execution_count": 79,
   "metadata": {},
   "outputs": [
    {
     "name": "stdout",
     "output_type": "stream",
     "text": [
      "\r",
      "Waiting on bqjob_r16a1f55bd1c48995_0000016b2f7fb2b0_1 ... (0s) Current status: DONE   "
     ]
    }
   ],
   "source": [
    "# Query number and percentage of trips that are less than 15 mins\n",
    "\n",
    "! bq query --use_legacy_sql=FALSE --format=csv \\\n",
    "\"SELECT \\\n",
    "    subscriber_type User_Type, \\\n",
    "    COUNT(*) Number_of_Trips, \\\n",
    "    COUNT(*)/(SELECT \\\n",
    "                  COUNT(*) \\\n",
    "              FROM \\\n",
    "                  \\`bigquery-public-data.san_francisco.bikeshare_trips\\` \\\n",
    "              WHERE \\\n",
    "                  subscriber_type = CASE WHEN t.subscriber_type='Customer' \\\n",
    "                                    THEN 'Customer' \\\n",
    "                                    ELSE 'Subscriber' \\\n",
    "                                    END) Percentage_Share\\\n",
    "FROM \\\n",
    "    \\`bigquery-public-data.san_francisco.bikeshare_trips\\` t \\\n",
    "WHERE \\\n",
    "    (duration_sec)/60 < 15 \\\n",
    "GROUP BY 1\" > Less_than_15_Trips.csv"
   ]
  },
  {
   "cell_type": "code",
   "execution_count": 81,
   "metadata": {},
   "outputs": [
    {
     "data": {
      "text/html": [
       "<div>\n",
       "<style scoped>\n",
       "    .dataframe tbody tr th:only-of-type {\n",
       "        vertical-align: middle;\n",
       "    }\n",
       "\n",
       "    .dataframe tbody tr th {\n",
       "        vertical-align: top;\n",
       "    }\n",
       "\n",
       "    .dataframe thead th {\n",
       "        text-align: right;\n",
       "    }\n",
       "</style>\n",
       "<table border=\"1\" class=\"dataframe\">\n",
       "  <thead>\n",
       "    <tr style=\"text-align: right;\">\n",
       "      <th></th>\n",
       "      <th>User_Type</th>\n",
       "      <th>Number_of_Trips</th>\n",
       "      <th>Percentage_Share</th>\n",
       "    </tr>\n",
       "  </thead>\n",
       "  <tbody>\n",
       "    <tr>\n",
       "      <th>0</th>\n",
       "      <td>Customer</td>\n",
       "      <td>53464</td>\n",
       "      <td>0.390793</td>\n",
       "    </tr>\n",
       "    <tr>\n",
       "      <th>1</th>\n",
       "      <td>Subscriber</td>\n",
       "      <td>772263</td>\n",
       "      <td>0.911936</td>\n",
       "    </tr>\n",
       "  </tbody>\n",
       "</table>\n",
       "</div>"
      ],
      "text/plain": [
       "    User_Type  Number_of_Trips  Percentage_Share\n",
       "0    Customer            53464          0.390793\n",
       "1  Subscriber           772263          0.911936"
      ]
     },
     "execution_count": 81,
     "metadata": {},
     "output_type": "execute_result"
    }
   ],
   "source": [
    "less_than_15 = pd.read_csv('Less_than_15_Trips.csv')\n",
    "less_than_15"
   ]
  },
  {
   "cell_type": "markdown",
   "metadata": {},
   "source": [
    "#### From this, \n",
    "- we can see that most of the subscriber trips are **less than 15 mins** long, and yet they are paying for **30-min trip** windows"
   ]
  },
  {
   "cell_type": "markdown",
   "metadata": {},
   "source": [
    "## Most popular commuter trips"
   ]
  },
  {
   "cell_type": "code",
   "execution_count": 13,
   "metadata": {},
   "outputs": [
    {
     "name": "stdout",
     "output_type": "stream",
     "text": [
      "Waiting on bqjob_r356d452a2c9d6539_0000016b35beeed8_1 ... (1s) Current status: DONE   "
     ]
    }
   ],
   "source": [
    "# Query the most popular commute trip routes and their origin/destination coordinates\n",
    "\n",
    "! bq query --use_legacy_sql=FALSE --format=csv \\\n",
    "\"SELECT \\\n",
    "    t.start_station_name Origin, \\\n",
    "    t.end_station_name Destination, \\\n",
    "    s.latitude start_lat, \\\n",
    "    s.longitude start_lon, \\\n",
    "    e.latitude end_lat, \\\n",
    "    e.longitude end_lon, \\\n",
    "    count(*) AS NumTrips \\\n",
    "FROM \\\n",
    "    \\`bigquery-public-data.san_francisco.bikeshare_trips\\` t \\\n",
    "JOIN \\\n",
    "    \\`bigquery-public-data.san_francisco.bikeshare_stations\\` s \\\n",
    "ON \\\n",
    "    t.start_station_id = s.station_id \\\n",
    "JOIN \\\n",
    "    \\`bigquery-public-data.san_francisco.bikeshare_stations\\` e \\\n",
    "ON \\\n",
    "    t.end_station_id = e.station_id \\\n",
    "WHERE duration_sec/60 < 30 \\\n",
    "GROUP BY \\\n",
    "    1, 2, 3, 4, 5, 6 \\\n",
    "ORDER BY \\\n",
    "    NumTrips DESC\" > top5_commuter_route.csv"
   ]
  },
  {
   "cell_type": "code",
   "execution_count": 14,
   "metadata": {},
   "outputs": [
    {
     "data": {
      "text/html": [
       "<div>\n",
       "<style scoped>\n",
       "    .dataframe tbody tr th:only-of-type {\n",
       "        vertical-align: middle;\n",
       "    }\n",
       "\n",
       "    .dataframe tbody tr th {\n",
       "        vertical-align: top;\n",
       "    }\n",
       "\n",
       "    .dataframe thead th {\n",
       "        text-align: right;\n",
       "    }\n",
       "</style>\n",
       "<table border=\"1\" class=\"dataframe\">\n",
       "  <thead>\n",
       "    <tr style=\"text-align: right;\">\n",
       "      <th></th>\n",
       "      <th>Origin</th>\n",
       "      <th>Destination</th>\n",
       "      <th>start_lat</th>\n",
       "      <th>start_lon</th>\n",
       "      <th>end_lat</th>\n",
       "      <th>end_lon</th>\n",
       "      <th>NumTrips</th>\n",
       "    </tr>\n",
       "  </thead>\n",
       "  <tbody>\n",
       "    <tr>\n",
       "      <th>0</th>\n",
       "      <td>San Francisco Caltrain 2 (330 Townsend)</td>\n",
       "      <td>Townsend at 7th</td>\n",
       "      <td>37.776600</td>\n",
       "      <td>-122.395470</td>\n",
       "      <td>37.771058</td>\n",
       "      <td>-122.402717</td>\n",
       "      <td>8474</td>\n",
       "    </tr>\n",
       "    <tr>\n",
       "      <th>1</th>\n",
       "      <td>Harry Bridges Plaza (Ferry Building)</td>\n",
       "      <td>Embarcadero at Sansome</td>\n",
       "      <td>37.795392</td>\n",
       "      <td>-122.394203</td>\n",
       "      <td>37.804770</td>\n",
       "      <td>-122.403234</td>\n",
       "      <td>7841</td>\n",
       "    </tr>\n",
       "    <tr>\n",
       "      <th>2</th>\n",
       "      <td>2nd at Townsend</td>\n",
       "      <td>Harry Bridges Plaza (Ferry Building)</td>\n",
       "      <td>37.780526</td>\n",
       "      <td>-122.390288</td>\n",
       "      <td>37.795392</td>\n",
       "      <td>-122.394203</td>\n",
       "      <td>7550</td>\n",
       "    </tr>\n",
       "    <tr>\n",
       "      <th>3</th>\n",
       "      <td>Harry Bridges Plaza (Ferry Building)</td>\n",
       "      <td>2nd at Townsend</td>\n",
       "      <td>37.795392</td>\n",
       "      <td>-122.394203</td>\n",
       "      <td>37.780526</td>\n",
       "      <td>-122.390288</td>\n",
       "      <td>6814</td>\n",
       "    </tr>\n",
       "    <tr>\n",
       "      <th>4</th>\n",
       "      <td>Townsend at 7th</td>\n",
       "      <td>San Francisco Caltrain 2 (330 Townsend)</td>\n",
       "      <td>37.771058</td>\n",
       "      <td>-122.402717</td>\n",
       "      <td>37.776600</td>\n",
       "      <td>-122.395470</td>\n",
       "      <td>6812</td>\n",
       "    </tr>\n",
       "  </tbody>\n",
       "</table>\n",
       "</div>"
      ],
      "text/plain": [
       "                                    Origin  \\\n",
       "0  San Francisco Caltrain 2 (330 Townsend)   \n",
       "1     Harry Bridges Plaza (Ferry Building)   \n",
       "2                          2nd at Townsend   \n",
       "3     Harry Bridges Plaza (Ferry Building)   \n",
       "4                          Townsend at 7th   \n",
       "\n",
       "                               Destination  start_lat   start_lon    end_lat  \\\n",
       "0                          Townsend at 7th  37.776600 -122.395470  37.771058   \n",
       "1                   Embarcadero at Sansome  37.795392 -122.394203  37.804770   \n",
       "2     Harry Bridges Plaza (Ferry Building)  37.780526 -122.390288  37.795392   \n",
       "3                          2nd at Townsend  37.795392 -122.394203  37.780526   \n",
       "4  San Francisco Caltrain 2 (330 Townsend)  37.771058 -122.402717  37.776600   \n",
       "\n",
       "      end_lon  NumTrips  \n",
       "0 -122.402717      8474  \n",
       "1 -122.403234      7841  \n",
       "2 -122.394203      7550  \n",
       "3 -122.390288      6814  \n",
       "4 -122.395470      6812  "
      ]
     },
     "execution_count": 14,
     "metadata": {},
     "output_type": "execute_result"
    }
   ],
   "source": [
    "top5_commuter_route = pd.read_csv('top5_commuter_route.csv')[:5]\n",
    "top5_commuter_route"
   ]
  },
  {
   "cell_type": "markdown",
   "metadata": {},
   "source": [
    "# Conclusions & Recommendations:\n",
    "- 69% of the customer's trips are less than 30 mins, and 99% of the subscriber's trips are less than 30 mins.\n",
    "- 39% of the customer's trips are less than 15 mins, and 91% of the subscriber's trips are less than 30 mins.\n",
    "- 45-min and 30-min package for subscribers are way too much.\n",
    "- **Propose cheaper day and annual pass options with unlimited 15-min rides to incentive more commuters to sign up.**"
   ]
  }
 ],
 "metadata": {
  "kernelspec": {
   "display_name": "Python 3",
   "language": "python",
   "name": "python3"
  },
  "language_info": {
   "codemirror_mode": {
    "name": "ipython",
    "version": 3
   },
   "file_extension": ".py",
   "mimetype": "text/x-python",
   "name": "python",
   "nbconvert_exporter": "python",
   "pygments_lexer": "ipython3",
   "version": "3.6.4"
  }
 },
 "nbformat": 4,
 "nbformat_minor": 2
}
